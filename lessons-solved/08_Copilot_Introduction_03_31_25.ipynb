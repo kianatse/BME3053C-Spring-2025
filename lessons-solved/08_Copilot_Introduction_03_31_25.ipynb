{
 "cells": [
  {
   "cell_type": "markdown",
   "metadata": {},
   "source": [
    "# BME3053C - Computer Applications for BME\n",
    "\n",
    "<br/>\n",
    "\n",
    "<h1 align=\"center\">GitHub Copilot Introduction</h1>\n",
    "\n",
    "---\n",
    "\n",
    "<center><h2>Introduction to AI-Assisted Programming</h2></center>\n",
    "\n",
    "<br/>"
   ]
  },
  {
   "cell_type": "code",
   "execution_count": null,
   "metadata": {},
   "outputs": [],
   "source": []
  },
  {
   "cell_type": "markdown",
   "metadata": {},
   "source": [
    "# What is GitHub Copilot?\n",
    "\n",
    "GitHub Copilot is an AI pair programmer that helps you write code faster and with less effort. It works by:\n",
    "\n",
    "- Suggesting whole lines or blocks of code as you type\n",
    "- Converting comments into working code\n",
    "- Helping you understand and work with unfamiliar libraries\n",
    "- Offering multiple suggestions for you to choose from\n",
    "- Learning from your coding style and preferences\n",
    "\n",
    "# Getting Started with Copilot\n",
    "\n",
    "1. **Access Copilot through GitHub Student Developer Pack**:\n",
    "   - Sign up for the [GitHub Student Developer Pack](https://education.github.com/pack)\n",
    "   - Once approved, activate your free Copilot subscription\n",
    "\n",
    "2. **Install Copilot in Your Development Environment**:\n",
    "   - VS Code: Install the \"GitHub Copilot\" extension\n",
    "   - GitHub Codespaces: Copilot is available by default\n",
    "   - JupyterLab: Install the Copilot extension\n",
    "\n",
    "3. **Verify Installation**:\n",
    "   - Look for the Copilot icon in your editor's status bar\n",
    "   - The icon should be active (not grayed out)\n",
    "   - You might need to sign in to GitHub to activate Copilot"
   ]
  },
  {
   "cell_type": "markdown",
   "metadata": {},
   "source": [
    "# Switching AI Models in Copilot\n",
    "\n",
    "GitHub Copilot offers different AI models to help with various coding tasks. Here's how to switch between them:\n",
    "\n",
    "## Available Models\n",
    "\n",
    "- **Default (GPT-3.5 Turbo)**: The standard model for general coding assistance\n",
    "- **GPT-4**: More powerful model with enhanced code understanding and generation capabilities\n",
    "- **Copilot Chat**: Conversational interface for complex queries and explanations\n",
    "\n",
    "## How to Switch Models\n",
    "\n",
    "1. **In VS Code**:\n",
    "    - Click on the Copilot icon in the status bar\n",
    "    - Select \"GitHub Copilot: Switch Model\"\n",
    "    - Choose your preferred model from the dropdown menu\n",
    "\n",
    "2. **Using Command Palette**:\n",
    "    - Press `Ctrl+Shift+P` (Windows/Linux) or `Cmd+Shift+P` (Mac)\n",
    "    - Type \"GitHub Copilot: Switch Model\"\n",
    "    - Select the desired model\n",
    "\n",
    "3. **In Copilot Chat**:\n",
    "    - Type `/model` followed by the model name\n",
    "    - Example: `/model gpt-4`\n",
    "\n",
    "## When to Use Different Models\n",
    "\n",
    "- **Default Model**: Everyday coding tasks, quick suggestions\n",
    "- **GPT-4**: Complex algorithms, thorough code explanations, challenging problems\n",
    "- **Specialized Models**: Domain-specific coding (when available)\n",
    "\n",
    "Remember that more powerful models might be slower to respond or have usage limitations based on your subscription plan."
   ]
  },
  {
   "cell_type": "markdown",
   "metadata": {},
   "source": [
    "# Basic Usage\n",
    "\n",
    "## 1. Code Completion\n",
    "\n",
    "Copilot provides suggestions as you type. Let's try some examples:\n",
    "\n",
    "1. Start typing a function definition:\n",
    "```python\n",
    "def calculate_bmi(weight, height):\n",
    "    # Calculate BMI using weight in kg and height in meters\n",
    "```\n",
    "\n",
    "2. Copilot will suggest the implementation. Press Tab to accept or keep typing for different suggestions."
   ]
  },
  {
   "cell_type": "code",
   "execution_count": null,
   "metadata": {},
   "outputs": [],
   "source": [
    "def calculate_bmi(weight, height):\n",
    "    # Calculate BMI using weight in kg and height in meters\n",
    "    "
   ]
  },
  {
   "cell_type": "markdown",
   "metadata": {},
   "source": [
    "## 2. Comment-to-Code\n",
    "\n",
    "One of Copilot's most powerful features is generating code from comments:\n"
   ]
  },
  {
   "cell_type": "code",
   "execution_count": null,
   "metadata": {},
   "outputs": [],
   "source": [
    "# Create a function that converts temperature from Celsius to Fahrenheit\n",
    "# Include input validation and round to 2 decimal places\n",
    "\n",
    "# Try typing this comment and let Copilot suggest the implementation"
   ]
  },
  {
   "cell_type": "markdown",
   "metadata": {},
   "source": [
    "## 3. Working with Libraries\n",
    "\n",
    "Copilot is particularly helpful when working with libraries. It can suggest proper import statements and usage patterns:"
   ]
  },
  {
   "cell_type": "code",
   "execution_count": null,
   "metadata": {},
   "outputs": [],
   "source": [
    "# Create a scatter plot using matplotlib with the following features:\n",
    "# - Random data points\n",
    "# - Custom colors based on point values\n",
    "# - A trend line\n",
    "# - Proper labels and title\n",
    "# - A legend\n",
    "# - Proper\n",
    "\n",
    "# Let Copilot suggest the implementation"
   ]
  },
  {
   "cell_type": "markdown",
   "metadata": {},
   "source": [
    "## 4. Keyboard Shortcuts for Copilot\n",
    "\n",
    "Here are all the keyboard shortcuts to enhance your productivity with Copilot:\n",
    "\n",
    "### General Shortcuts\n",
    "- **Accept Suggestion**: Press `Tab` to accept the current suggestion.\n",
    "- **Reject Suggestion**: Press `Esc` to dismiss the suggestion.\n",
    "- **Trigger Suggestion**: Press `Ctrl + Space` (Windows/Linux) or `Cmd + Space` (Mac) to manually trigger Copilot suggestions.\n",
    "\n",
    "### Navigating Suggestions\n",
    "- **Cycle Through Suggestions**:\n",
    "    - Press `Alt + ]` (Windows/Linux) or `Option + ]` (Mac) to see the next suggestion.\n",
    "    - Press `Alt + [` (Windows/Linux) or `Option + [` (Mac) to go back to the previous suggestion.\n",
    "\n",
    "### Copilot Panel\n",
    "- **Open Copilot Panel**: Press `Ctrl + Enter` (Windows/Linux) or `Cmd + Enter` (Mac) to open the Copilot panel for more suggestions.\n",
    "\n",
    "### Inline Suggestions\n",
    "- **Show Next Inline Suggestion**: Press `Alt + \\` (Windows/Linux) or `Option + \\` (Mac).\n",
    "- **Show Previous Inline Suggestion**: Press `Alt + Shift + \\` (Windows/Linux) or `Option + Shift + \\` (Mac).\n",
    "\n",
    "### Dismiss Suggestions\n",
    "- **Dismiss Inline Suggestion**: Press `Esc`.\n",
    "\n",
    "### Ghost Text\n",
    "- **Accept Word**: Press `Ctrl + Right Arrow` (Windows/Linux) or `Cmd + Right Arrow` (Mac) to accept one word at a time.\n",
    "- **Accept Line**: Press `Ctrl + End` (Windows/Linux) or `Cmd + End` (Mac) to accept the rest of the line.\n",
    "\n",
    "### Chat Features\n",
    "- **Open Copilot Chat**: Press `Ctrl + Shift + I` (Windows/Linux) or `Cmd + Shift + I` (Mac).\n",
    "- **Send Message in Chat**: Press `Shift + Enter` or click the send button.\n",
    "\n",
    "These shortcuts can help you navigate and utilize Copilot more effectively while coding."
   ]
  },
  {
   "cell_type": "markdown",
   "metadata": {},
   "source": [
    "\n",
    "## 5. Whole File Generation\n",
    "\n",
    "Copilot can generate entire files based on a description. Start with a detailed comment at the top of the file:\n",
    "```python\n",
    "# Create a FastAPI application that:\n",
    "# 1. Implements a RESTful API for managing patient data\n",
    "# 2. Provides endpoints for adding, retrieving, and updating patient records\n",
    "# 3. Includes data validation and error handling\n",
    "# 4. Implements authentication for secure access\n",
    "# 5. Returns data in JSON format with proper status codes\n",
    "```\n",
    "\n",
    "## 6. Test Generation\n",
    "\n",
    "Copilot can help write tests for your code:"
   ]
  },
  {
   "cell_type": "code",
   "execution_count": 2,
   "metadata": {},
   "outputs": [],
   "source": [
    "def calculate_dosage(weight, age, condition):\n",
    "    \"\"\"Calculate medication dosage based on patient parameters.\"\"\"\n",
    "    if weight <= 0 or age < 0:\n",
    "        raise ValueError(\"Weight and age must be positive\")\n",
    "    \n",
    "    base_dosage = weight * 2\n",
    "    if age < 12:\n",
    "        base_dosage *= 0.75\n",
    "    \n",
    "    if condition == \"severe\":\n",
    "        base_dosage *= 1.5\n",
    "    \n",
    "    return round(base_dosage, 2)\n",
    "\n",
    "# Write pytest test cases for the above function\n",
    "# Include tests for normal cases, edge cases, and error conditions\n",
    "import pytest\n",
    "def test_calculate_dosage():\n",
    "    assert calculate_dosage(70,30,\"normal\") == 140\n",
    "    assert calculate_dosage(50,10, \"normal\") == 75.0\n",
    "    assert calculate_dosage(80,15,\"severe\") == 240.0\n",
    "    assert calculate_dosage(60,5,\"normal\") ==67.5\n",
    "    with pytest.raises(ValueError):\n",
    "        calculate_dosage(-70,30,\"normal\")\n",
    "    with pytest.raises(ValueError):\n",
    "        calculate_dosage(70,-5,\"normal\")\n",
    "    ipytest.run(\"-v\")\n",
    "\n"
   ]
  },
  {
   "cell_type": "markdown",
   "metadata": {},
   "source": [
    "# Best Practices\n",
    "\n",
    "1. **Review Generated Code**:\n",
    "   - Always review and understand code before accepting it\n",
    "   - Check for potential security issues\n",
    "   - Verify that the code follows your project's standards\n",
    "\n",
    "2. **Write Clear Comments**:\n",
    "   - Be specific about what you want\n",
    "   - Include important requirements in comments\n",
    "   - Mention edge cases and error handling needs\n",
    "\n",
    "3. **Iterative Refinement**:\n",
    "   - Start with a basic implementation\n",
    "   - Add comments for additional features\n",
    "   - Let Copilot help refactor and improve the code\n",
    "\n"
   ]
  },
  {
   "cell_type": "markdown",
   "metadata": {},
   "source": [
    "### ✏️ Exercise Create a function that processes medical image data:\n",
    "   - Accept a numpy array representing an image\n",
    "   - Apply basic image processing (normalization, filtering)\n",
    "   - Return the processed image\n",
    "   - Include proper error handling"
   ]
  },
  {
   "cell_type": "code",
   "execution_count": null,
   "metadata": {},
   "outputs": [],
   "source": []
  },
  {
   "cell_type": "markdown",
   "metadata": {},
   "source": [
    "\n",
    "### ✏️ Exercise: Write a class for managing patient records\n",
    "   - Include methods for adding, updating, and retrieving records\n",
    "   - Implement data validation\n",
    "   - Add methods for basic statistical analysis"
   ]
  },
  {
   "cell_type": "code",
   "execution_count": 4,
   "metadata": {},
   "outputs": [
    {
     "name": "stdout",
     "output_type": "stream",
     "text": [
      "{'name': 'John Doe', 'age': 30, 'medical_history': ['Diabetes']}\n",
      "{'name': 'Jane Smith', 'age': 25, 'medical_history': ['Hypertension']}\n",
      "27.5\n",
      "2\n",
      "{'name': 'John Doe', 'age': 31, 'medical_history': ['Diabetes']}\n"
     ]
    }
   ],
   "source": [
    "class PatientManager:\n",
    "    def __init__(self):\n",
    "        # Initialize an empty dictionary to store patient records\n",
    "        self.records = {}\n",
    "\n",
    "    def add_patient(self, patient_id, name, age, medical_history):\n",
    "        \"\"\"\n",
    "        Adds a new patient record.\n",
    "        \"\"\"\n",
    "        if patient_id in self.records:\n",
    "            raise ValueError(\"Patient ID already exists.\")\n",
    "        if not isinstance(age, int) or age <= 0:\n",
    "            raise ValueError(\"Age must be a positive integer.\")\n",
    "        \n",
    "        self.records[patient_id] = {\n",
    "            \"name\": name,\n",
    "            \"age\": age,\n",
    "            \"medical_history\": medical_history\n",
    "        }\n",
    "\n",
    "    def update_patient(self, patient_id, name=None, age=None, medical_history=None):\n",
    "        \"\"\"\n",
    "        Updates an existing patient record.\n",
    "        \"\"\"\n",
    "        if patient_id not in self.records:\n",
    "            raise ValueError(\"Patient ID does not exist.\")\n",
    "        \n",
    "        if name:\n",
    "            self.records[patient_id][\"name\"] = name\n",
    "        if age:\n",
    "            if not isinstance(age, int) or age <= 0:\n",
    "                raise ValueError(\"Age must be a positive integer.\")\n",
    "            self.records[patient_id][\"age\"] = age\n",
    "        if medical_history:\n",
    "            self.records[patient_id][\"medical_history\"] = medical_history\n",
    "\n",
    "    def get_patient(self, patient_id):\n",
    "        \"\"\"\n",
    "        Retrieves a patient record by ID.\n",
    "        \"\"\"\n",
    "        if patient_id not in self.records:\n",
    "            raise ValueError(\"Patient ID does not exist.\")\n",
    "        return self.records[patient_id]\n",
    "\n",
    "    def get_average_age(self):\n",
    "        \"\"\"\n",
    "        Calculates the average age of all patients.\n",
    "        \"\"\"\n",
    "        if not self.records:\n",
    "            return 0\n",
    "        total_age = sum(patient[\"age\"] for patient in self.records.values())\n",
    "        return total_age / len(self.records)\n",
    "\n",
    "    def get_patient_count(self):\n",
    "        \"\"\"\n",
    "        Returns the total number of patients.\n",
    "        \"\"\"\n",
    "        return len(self.records)\n",
    "    \n",
    "    #Example usage of the PatientManager class\n",
    "if __name__ == \"__main__\":\n",
    "    pm = PatientManager()\n",
    "    pm.add_patient(1, \"John Doe\", 30, [\"Diabetes\"])\n",
    "    pm.add_patient(2, \"Jane Smith\", 25, [\"Hypertension\"])\n",
    "    print(pm.get_patient(1))  # {'name': 'John Doe', 'age': 30, 'medical_history': ['Diabetes']}\n",
    "    print(pm.get_patient(2))  # {'name': 'Jane Smith', 'age': 25, 'medical_history': ['Hypertension']}\n",
    "    print(pm.get_average_age())  # 27.5\n",
    "    print(pm.get_patient_count())  # 2\n",
    "    pm.update_patient(1, age=31)\n",
    "    print(pm.get_patient(1))  # {'name': 'John Doe', 'age': 31, 'medical_history': ['Diabetes']}\n",
    "   "
   ]
  },
  {
   "cell_type": "markdown",
   "metadata": {},
   "source": [
    "### ✏️ Exercise: Create a data visualization dashboard\n",
    "   - Use pandas for data manipulation\n",
    "   - Create multiple types of plots using matplotlib\n",
    "   - Add interactive elements"
   ]
  },
  {
   "cell_type": "code",
   "execution_count": null,
   "metadata": {},
   "outputs": [
    {
     "name": "stdout",
     "output_type": "stream",
     "text": [
      "Interactive Dashboard:\n"
     ]
    }
   ],
   "source": [
    "import pandas as pd\n",
    "import matplotlib.pyplot as plt\n",
    "from ipywidgets import interact, widgets\n",
    "\n",
    "# Sample data\n",
    "data = {\n",
    "    \"Patient ID\": [1, 2, 3, 4, 5],\n",
    "    \"Name\": [\"John Doe\", \"Jane Smith\", \"Alice Brown\", \"Bob White\", \"Eve Black\"],\n",
    "    \"Age\": [30, 25, 40, 35, 50],\n",
    "    \"Medical History\": [\"Diabetes\", \"Asthma\", \"Hypertension\", \"None\", \"Diabetes\"],\n",
    "    \"Visits\": [5, 3, 8, 2, 6]\n",
    "}\n",
    "\n",
    "# Create a DataFrame\n",
    "df = pd.DataFrame(data)\n",
    "\n",
    "# Function to display a bar chart of patient visits\n",
    "def plot_visits(sort_by=\"Patient ID\"):\n",
    "    sorted_df = df.sort_values(by=sort_by)\n",
    "    plt.figure(figsize=(8, 5))\n",
    "    plt.bar(sorted_df[\"Name\"], sorted_df[\"Visits\"], color=\"skyblue\")\n",
    "    plt.title(\"Patient Visits\")\n",
    "    plt.xlabel(\"Patient Name\")\n",
    "    plt.ylabel(\"Number of Visits\")\n",
    "    plt.xticks(rotation=45)\n",
    "    plt.tight_layout()\n",
    "    plt.show()\n",
    "\n",
    "# Function to display a histogram of patient ages\n",
    "def plot_age_distribution():\n",
    "    plt.figure(figsize=(8, 5))\n",
    "    plt.hist(df[\"Age\"], bins=5, color=\"lightgreen\", edgecolor=\"black\")\n",
    "    plt.title(\"Age Distribution\")\n",
    "    plt.xlabel(\"Age\")\n",
    "    plt.ylabel(\"Frequency\")\n",
    "    plt.tight_layout()\n",
    "    plt.show()\n",
    "\n",
    "# Function to filter data by medical history\n",
    "def filter_by_medical_history(condition=\"All\"):\n",
    "    if condition == \"All\":\n",
    "        filtered_df = df\n",
    "    else:\n",
    "        filtered_df = df[df[\"Medical History\"] == condition]\n",
    "    print(filtered_df)\n",
    "\n",
    "# Interactive dashboard\n",
    "print(\"Interactive Dashboard:\")\n",
    "interact(plot_visits, sort_by=widgets.Dropdown(options=[\"Patient ID\", \"Age\", \"Visits\"], description=\"Sort By:\"))\n",
    "interact(filter_by_medical_history, condition=widgets.Dropdown(options=[\"All\"] + df[\"Medical History\"].unique().tolist(), description=\"Condition:\"))\n",
    "plot_age_distribution()\n"
   ]
  },
  {
   "cell_type": "markdown",
   "metadata": {},
   "source": [
    "# Conclusion\n",
    "\n",
    "GitHub Copilot is a powerful tool that can significantly enhance your coding productivity. Remember:\n",
    "\n",
    "- It's an assistant, not a replacement for understanding code\n",
    "- Always review and test generated code\n",
    "- Use it to learn new patterns and approaches\n",
    "- Combine it with your own knowledge and creativity\n",
    "\n",
    "As you continue to use Copilot, you'll develop a workflow that helps you write better code more efficiently while maintaining good coding practices."
   ]
  }
 ],
 "metadata": {
  "kernelspec": {
   "display_name": "Python 3",
   "language": "python",
   "name": "python3"
  },
  "language_info": {
   "codemirror_mode": {
    "name": "ipython",
    "version": 3
   },
   "file_extension": ".py",
   "mimetype": "text/x-python",
   "name": "python",
   "nbconvert_exporter": "python",
   "pygments_lexer": "ipython3",
   "version": "3.12.1"
  }
 },
 "nbformat": 4,
 "nbformat_minor": 4
}
